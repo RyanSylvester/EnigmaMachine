{
 "cells": [
  {
   "cell_type": "markdown",
   "metadata": {
    "deletable": false,
    "nbgrader": {
     "cell_type": "markdown",
     "checksum": "549fca64b0c51770e712237765c36cc9",
     "grade": false,
     "grade_id": "cell-52e44b5f99fb2f2c",
     "locked": true,
     "schema_version": 3,
     "solution": false,
     "task": false
    }
   },
   "source": [
    "# Enigma Machine\n",
    "## Simulation\n"
   ]
  },
  {
   "cell_type": "code",
   "execution_count": 5,
   "metadata": {
    "deletable": false,
    "nbgrader": {
     "cell_type": "code",
     "checksum": "f8a66a9abbdf0d661758bd0ed855e2e2",
     "grade": false,
     "grade_id": "cell-10268453ab40f7dd",
     "locked": false,
     "schema_version": 3,
     "solution": true,
     "task": false
    }
   },
   "outputs": [],
   "source": [
    "from enigma import *\n",
    "from decryptor import *"
   ]
  },
  {
   "cell_type": "markdown",
   "metadata": {
    "nbgrader": {
     "cell_type": "markdown",
     "checksum": "042d6dfb28c1d1dce2c5976340039069",
     "grade": false,
     "grade_id": "cell-271843ea3dfe6fe2",
     "locked": true,
     "schema_version": 3,
     "solution": false,
     "task": false
    }
   },
   "source": [
    "### Plug Leads\n",
    "Plug leads are the outermost step of the process.\n",
    "\n",
    "Plug leads bind two characters together. \n",
    "\n",
    "Every time character 1 is introduced as an input, the output of character 2 is passed on to the rest of the process.\n",
    "\n",
    "Since the machine is reflected by the reflector, the plug scramble letters twice; once after collecting an input from the user and again just before a character is outputted by the machine."
   ]
  },
  {
   "cell_type": "code",
   "execution_count": 2,
   "metadata": {
    "deletable": false,
    "nbgrader": {
     "cell_type": "code",
     "checksum": "96ae73b4300d4e3cf59bc82ff4f4e879",
     "grade": true,
     "grade_id": "cell-823cd8cc358d20ff",
     "locked": true,
     "points": 5,
     "schema_version": 3,
     "solution": false,
     "task": false
    }
   },
   "outputs": [],
   "source": [
    "lead = PlugLead(\"AG\")\n",
    "assert(lead.encode(\"A\") == \"G\")\n",
    "assert(lead.encode(\"D\") == \"D\")\n",
    "\n",
    "lead = PlugLead(\"DA\")\n",
    "assert(lead.encode(\"A\") == \"D\")\n",
    "assert(lead.encode(\"D\") == \"A\")\n",
    "\n",
    "# Unmapped characters should return unchanged\n",
    "assert(lead.encode(\"R\") == \"R\")"
   ]
  },
  {
   "cell_type": "markdown",
   "metadata": {
    "deletable": false,
    "nbgrader": {
     "cell_type": "markdown",
     "checksum": "158d8bb59d7da3cee6e3d43c3e9682a0",
     "grade": false,
     "grade_id": "cell-b627139ffbad36d1",
     "locked": true,
     "schema_version": 3,
     "solution": false,
     "task": false
    }
   },
   "source": [
    "### Plugboard\n",
    "The plugboard simply houses all of our plug leads.\n",
    "The original enigma machine had a plug board that could house up to 10 leads. Operators had a calendar that would dictate the composition of plug leads to use for every given day."
   ]
  },
  {
   "cell_type": "code",
   "execution_count": 3,
   "metadata": {
    "deletable": false,
    "editable": false,
    "nbgrader": {
     "cell_type": "code",
     "checksum": "7ea65bfe09c22f58e41deaa08e9447a4",
     "grade": true,
     "grade_id": "cell-aa9f93cfa0811bf2",
     "locked": true,
     "points": 5,
     "schema_version": 3,
     "solution": false,
     "task": false
    }
   },
   "outputs": [],
   "source": [
    "plugboard = Plugboard()\n",
    "\n",
    "plugboard.add(PlugLead(\"SZ\"))\n",
    "plugboard.add(PlugLead(\"GT\"))\n",
    "plugboard.add(PlugLead(\"DV\"))\n",
    "plugboard.add(PlugLead(\"KU\"))\n",
    "\n",
    "assert(plugboard.encode(\"K\") == \"U\")\n",
    "assert(plugboard.encode(\"A\") == \"A\")"
   ]
  },
  {
   "cell_type": "markdown",
   "metadata": {
    "deletable": false,
    "nbgrader": {
     "cell_type": "markdown",
     "checksum": "44d3608272e5366e1951af3122743e8b",
     "grade": false,
     "grade_id": "cell-f1ca9837198c0fcd",
     "locked": true,
     "schema_version": 3,
     "solution": false,
     "task": false
    }
   },
   "source": [
    "### Rotors\n",
    "The enigma machine uses a composition of different rotors that are responsible for scrambling a character before passing it forward. The outermost rotor turns every time it is used. After a full rotation back to its starting point, the second rotor turns once. After the second rotor makes a full rotation, the third rotor will turn, and so on for n rotors.\n",
    "\n",
    "Each rotor can be chosen from a box containing seven possible wiring patterns. There are two rotors labelled `Beta` and `Gamma`. Then there are five rotors labelled with Roman numerals which do rotate: `I, II, III, IV, V`. Finally, the machine has three different types of reflector wiring patterns, labelled `A, B, C`.\n",
    "\n",
    "Wiring patterns from wikipedia: [this page](https://en.wikipedia.org/wiki/Enigma_rotor_details).\n",
    "<table><thead>\n",
    "<tr><th></th><th colspan=\"26\"><center>Mapping from letter</center></th></tr>\n",
    "<tr><th style=\"text-align:left\">Label</th><th>A</th><th>B</th><th>C</th><th>D</th><th>E</th><th>F</th><th>G</th><th>H</th><th>I</th><th>J</th><th>K</th><th>L</th><th>M</th><th>N</th><th>O</th><th>P</th><th>Q</th><th>R</th><th>S</th><th>T</th><th>U</th><th>V</th><th>W</th><th>X</th><th>Y</th><th>Z</th></tr></thead><tbody>\n",
    "<tr><th style=\"text-align:left\">Beta</th><td>L</td><td>E</td><td>Y</td><td>J</td><td>V</td><td>C</td><td>N</td><td>I</td><td>X</td><td>W</td><td>P</td><td>B</td><td>Q</td><td>M</td><td>D</td><td>R</td><td>T</td><td>A</td><td>K</td><td>Z</td><td>G</td><td>F</td><td>U</td><td>H</td><td>O</td><td>S</td></tr>\n",
    "<tr><th style=\"text-align:left\">Gamma</th><td>F</td><td>S</td><td>O</td><td>K</td><td>A</td><td>N</td><td>U</td><td>E</td><td>R</td><td>H</td><td>M</td><td>B</td><td>T</td><td>I</td><td>Y</td><td>C</td><td>W</td><td>L</td><td>Q</td><td>P</td><td>Z</td><td>X</td><td>V</td><td>G</td><td>J</td><td>D</td></tr>\n",
    "<tr><th style=\"text-align:left\">I</th><td>E</td><td>K</td><td>M</td><td>F</td><td>L</td><td>G</td><td>D</td><td>Q</td><td>V</td><td>Z</td><td>N</td><td>T</td><td>O</td><td>W</td><td>Y</td><td>H</td><td>X</td><td>U</td><td>S</td><td>P</td><td>A</td><td>I</td><td>B</td><td>R</td><td>C</td><td>J</td></tr>\n",
    "<tr><th style=\"text-align:left\">II</th><td>A</td><td>J</td><td>D</td><td>K</td><td>S</td><td>I</td><td>R</td><td>U</td><td>X</td><td>B</td><td>L</td><td>H</td><td>W</td><td>T</td><td>M</td><td>C</td><td>Q</td><td>G</td><td>Z</td><td>N</td><td>P</td><td>Y</td><td>F</td><td>V</td><td>O</td><td>E</td></tr>\n",
    "<tr><th style=\"text-align:left\">III</th><td>B</td><td>D</td><td>F</td><td>H</td><td>J</td><td>L</td><td>C</td><td>P</td><td>R</td><td>T</td><td>X</td><td>V</td><td>Z</td><td>N</td><td>Y</td><td>E</td><td>I</td><td>W</td><td>G</td><td>A</td><td>K</td><td>M</td><td>U</td><td>S</td><td>Q</td><td>O</td></tr>\n",
    "<tr><th style=\"text-align:left\">IV</th><td>E</td><td>S</td><td>O</td><td>V</td><td>P</td><td>Z</td><td>J</td><td>A</td><td>Y</td><td>Q</td><td>U</td><td>I</td><td>R</td><td>H</td><td>X</td><td>L</td><td>N</td><td>F</td><td>T</td><td>G</td><td>K</td><td>D</td><td>C</td><td>M</td><td>W</td><td>B</td></tr>\n",
    "<tr><th style=\"text-align:left\">V</th><td>V</td><td>Z</td><td>B</td><td>R</td><td>G</td><td>I</td><td>T</td><td>Y</td><td>U</td><td>P</td><td>S</td><td>D</td><td>N</td><td>H</td><td>L</td><td>X</td><td>A</td><td>W</td><td>M</td><td>J</td><td>Q</td><td>O</td><td>F</td><td>E</td><td>C</td><td>K</td></tr>\n",
    "<tr><th style=\"text-align:left\">A</th><td>E</td><td>J</td><td>M</td><td>Z</td><td>A</td><td>L</td><td>Y</td><td>X</td><td>V</td><td>B</td><td>W</td><td>F</td><td>C</td><td>R</td><td>Q</td><td>U</td><td>O</td><td>N</td><td>T</td><td>S</td><td>P</td><td>I</td><td>K</td><td>H</td><td>G</td><td>D</td></tr>\n",
    "<tr><th style=\"text-align:left\">B</th><td>Y</td><td>R</td><td>U</td><td>H</td><td>Q</td><td>S</td><td>L</td><td>D</td><td>P</td><td>X</td><td>N</td><td>G</td><td>O</td><td>K</td><td>M</td><td>I</td><td>E</td><td>B</td><td>F</td><td>Z</td><td>C</td><td>W</td><td>V</td><td>J</td><td>A</td><td>T</td></tr>\n",
    "<tr><th style=\"text-align:left\">C</th><td>F</td><td>V</td><td>P</td><td>J</td><td>I</td><td>A</td><td>O</td><td>Y</td><td>E</td><td>D</td><td>R</td><td>Z</td><td>X</td><td>W</td><td>G</td><td>C</td><td>T</td><td>K</td><td>U</td><td>Q</td><td>S</td><td>B</td><td>N</td><td>M</td><td>H</td><td>L</td></tr>\n",
    "</tbody></table>"
   ]
  },
  {
   "cell_type": "markdown",
   "metadata": {
    "deletable": false,
    "nbgrader": {
     "cell_type": "markdown",
     "checksum": "be87fa79903a84c8825afea5fcfad6c7",
     "grade": false,
     "grade_id": "cell-434f45d97d46dbc2",
     "locked": true,
     "schema_version": 3,
     "solution": false,
     "task": false
    }
   },
   "source": [
    "### Enigma Machine Demonstration\n"
   ]
  },
  {
   "cell_type": "code",
   "execution_count": 6,
   "metadata": {
    "deletable": false,
    "nbgrader": {
     "cell_type": "code",
     "checksum": "46fb15ce94c482398bf92e9e00370c6c",
     "grade": true,
     "grade_id": "cell-993ccf0331dfd6eb",
     "locked": false,
     "points": 10,
     "schema_version": 3,
     "solution": true,
     "task": false
    }
   },
   "outputs": [
    {
     "name": "stdout",
     "output_type": "stream",
     "text": [
      "HELLOWORLD translates to: RFKTMBXVVW\n",
      "MESSAGE translates to: YPNDYST\n",
      "It translates back to MESSAGE\n"
     ]
    }
   ],
   "source": [
    "    plugboard = Plugboard()\n",
    "\n",
    "    plugboard.add(PlugLead(\"HL\"))\n",
    "    plugboard.add(PlugLead(\"MO\"))\n",
    "    plugboard.add(PlugLead(\"AJ\"))\n",
    "    plugboard.add(PlugLead(\"CX\"))\n",
    "    plugboard.add(PlugLead(\"BZ\"))\n",
    "    plugboard.add(PlugLead(\"SR\"))\n",
    "    plugboard.add(PlugLead(\"NI\"))\n",
    "    plugboard.add(PlugLead(\"YW\"))\n",
    "    plugboard.add(PlugLead(\"DG\"))\n",
    "    plugboard.add(PlugLead(\"PK\"))\n",
    "\n",
    "    board = Rotorboard([\"I\", \"II\", \"III\"], \"B\",[1,1,1], \"AAZ\")\n",
    "    \n",
    "    enigma = EnigmaMachine(board, plugboard)\n",
    "    input1 = \"HELLOWORLD\"\n",
    "    output1 = enigma.EncodeMessage(input1)\n",
    "    print(f\"{input1} translates to: {output1}\")\n",
    "   \n",
    "    \n",
    "    plugboard2 = Plugboard()\n",
    "    plugboard2.add(PlugLead(\"PC\"))\n",
    "    plugboard2.add(PlugLead(\"XZ\"))\n",
    "    plugboard2.add(PlugLead(\"FM\"))\n",
    "    plugboard2.add(PlugLead(\"QA\"))\n",
    "    plugboard2.add(PlugLead(\"ST\"))\n",
    "    plugboard2.add(PlugLead(\"NB\"))\n",
    "    plugboard2.add(PlugLead(\"HY\"))\n",
    "    plugboard2.add(PlugLead(\"OR\"))\n",
    "    plugboard2.add(PlugLead(\"EV\"))\n",
    "    plugboard2.add(PlugLead(\"IU\"))\n",
    "    \n",
    "    board2 = Rotorboard([\"IV\", \"V\", \"Beta\", \"I\"], \"A\",[18,24,3,5], \"EZGP\")\n",
    "    \n",
    "    enigma2 = EnigmaMachine(board2, plugboard2)\n",
    "    input2 = \"MESSAGE\"\n",
    "    output2 = enigma2.EncodeMessage(input2)\n",
    "    print(f\"{input2} translates to: {output2}\")\n",
    "    \n",
    "    board2 = Rotorboard([\"IV\", \"V\", \"Beta\", \"I\"], \"A\",[18,24,3,5], \"EZGP\")\n",
    "    enigma2 = EnigmaMachine(board2, plugboard2)\n",
    "    print(f\"It translates back to {enigma2.EncodeMessage(output2)}\")"
   ]
  },
  {
   "cell_type": "code",
   "execution_count": null,
   "metadata": {},
   "outputs": [],
   "source": []
  }
 ],
 "metadata": {
  "celltoolbar": "Edit Metadata",
  "kernelspec": {
   "display_name": "Python 3 (ipykernel)",
   "language": "python",
   "name": "python3"
  },
  "language_info": {
   "codemirror_mode": {
    "name": "ipython",
    "version": 3
   },
   "file_extension": ".py",
   "mimetype": "text/x-python",
   "name": "python",
   "nbconvert_exporter": "python",
   "pygments_lexer": "ipython3",
   "version": "3.9.7"
  }
 },
 "nbformat": 4,
 "nbformat_minor": 4
}
